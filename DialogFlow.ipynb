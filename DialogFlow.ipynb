{
 "metadata": {
  "language_info": {
   "codemirror_mode": {
    "name": "ipython",
    "version": 3
   },
   "file_extension": ".py",
   "mimetype": "text/x-python",
   "name": "python",
   "nbconvert_exporter": "python",
   "pygments_lexer": "ipython3",
   "version": "3.9.4"
  },
  "orig_nbformat": 2,
  "kernelspec": {
   "name": "python394jvsc74a57bd03edf5240a99f1ea6f723177b1e6e8ef44065258bc95f05f248fa0c6f7b9e6c7e",
   "display_name": "Python 3.9.4 64-bit"
  }
 },
 "nbformat": 4,
 "nbformat_minor": 2,
 "cells": [
  {
   "cell_type": "code",
   "execution_count": null,
   "metadata": {},
   "outputs": [],
   "source": [
    "import os\n",
    "os.environ[\"GOOGLE_APPLICATION_CREDENTIALS\"] = \"client.json\"\n",
    "\n",
    "import dialogflow_v2 as dialogflow\n",
    "dialogflow_session_client = dialogflow.SessionsClient()\n",
    "PROJECT_ID = \"newsbot-sxkp\""
   ]
  },
  {
   "cell_type": "code",
   "execution_count": null,
   "metadata": {},
   "outputs": [],
   "source": [
    "def detect_intent_from_text(text, session_id, language_code='en'):\n",
    "    session = dialogflow_session_client.session_path(PROJECT_ID, session_id)\n",
    "    text_input = dialogflow.types.TextInput(text=text, language_code=language_code)\n",
    "    query_input = dialogflow.types.QueryInput(text=text_input)\n",
    "    response = dialogflow_session_client.detect_intent(session=session, query_input=query_input)\n",
    "    return response.query_result"
   ]
  },
  {
   "cell_type": "code",
   "execution_count": null,
   "metadata": {},
   "outputs": [],
   "source": [
    "response = detect_intent_from_text(\"health\", 12345)  \n",
    "# We are sending a query and a session id to the function and it is returning the response which is stored in variable json."
   ]
  },
  {
   "cell_type": "code",
   "execution_count": null,
   "metadata": {},
   "outputs": [],
   "source": [
    "response"
   ]
  },
  {
   "cell_type": "code",
   "execution_count": null,
   "metadata": {},
   "outputs": [],
   "source": [
    "parameter=dict(response.parameters)\n",
    "parameter"
   ]
  },
  {
   "cell_type": "code",
   "execution_count": null,
   "metadata": {},
   "outputs": [],
   "source": [
    "from gnewsclient import gnewsclient\n",
    "client = gnewsclient.NewsClient() \n",
    "def fetch_news(parameters):\n",
    "    # Setting the language parameter as the language in which we want the news\n",
    "    client.language = parameters.get('language')\n",
    "    # Setting the country news we want\n",
    "    client.location = parameters.get('geo-country')\n",
    "    # Setting the topic of the news we want\n",
    "    client.topic = 'top'\n",
    "    # Getting the 1st five news that satisfy all the criteria\n",
    "    return client.get_news()[:5]"
   ]
  },
  {
   "cell_type": "code",
   "execution_count": null,
   "metadata": {},
   "outputs": [],
   "source": [
    "articles = fetch_news(parameter)\n",
    "for article in articles:\n",
    "     print(article['link'])"
   ]
  },
  {
   "cell_type": "code",
   "execution_count": null,
   "metadata": {},
   "outputs": [],
   "source": [
    "!pip3 install python-Levenshtein\n"
   ]
  }
 ]
}